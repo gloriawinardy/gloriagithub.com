{
 "cells": [
  {
   "cell_type": "code",
   "execution_count": 1,
   "id": "bd9a96d5",
   "metadata": {},
   "outputs": [
    {
     "name": "stdout",
     "output_type": "stream",
     "text": [
      "Hello World\n"
     ]
    }
   ],
   "source": [
    "print('Hello World')"
   ]
  },
  {
   "cell_type": "markdown",
   "id": "816802a3",
   "metadata": {},
   "source": [
    "VARIABLE"
   ]
  },
  {
   "cell_type": "code",
   "execution_count": 3,
   "id": "c29f217e",
   "metadata": {},
   "outputs": [],
   "source": [
    "length = 10\n",
    "witdh = 2\n",
    "name = \"Saturnus\""
   ]
  },
  {
   "cell_type": "code",
   "execution_count": 5,
   "id": "18f9a7d1",
   "metadata": {},
   "outputs": [
    {
     "name": "stdout",
     "output_type": "stream",
     "text": [
      "hello,gloria\n"
     ]
    }
   ],
   "source": [
    "def greeting(name):\n",
    "    return 'hello,'+ name\n",
    "print(greeting('gloria'))"
   ]
  },
  {
   "cell_type": "code",
   "execution_count": 6,
   "id": "79afc9a9",
   "metadata": {},
   "outputs": [
    {
     "name": "stdout",
     "output_type": "stream",
     "text": [
      "True\n",
      "Linux == Windows\n",
      "True\n"
     ]
    }
   ],
   "source": [
    "a = 10\n",
    "b = 30.0\n",
    "a + b\n",
    "\n",
    "print (1<10)\n",
    "#true\n",
    "\n",
    "print (\"Linux == Windows\")\n",
    "#false\n",
    "\n",
    "print(1 != \"1\")\n",
    "#true"
   ]
  },
  {
   "cell_type": "code",
   "execution_count": null,
   "id": "fe91e54e",
   "metadata": {},
   "outputs": [],
   "source": []
  }
 ],
 "metadata": {
  "kernelspec": {
   "display_name": "Python 3 (ipykernel)",
   "language": "python",
   "name": "python3"
  },
  "language_info": {
   "codemirror_mode": {
    "name": "ipython",
    "version": 3
   },
   "file_extension": ".py",
   "mimetype": "text/x-python",
   "name": "python",
   "nbconvert_exporter": "python",
   "pygments_lexer": "ipython3",
   "version": "3.9.13"
  }
 },
 "nbformat": 4,
 "nbformat_minor": 5
}
